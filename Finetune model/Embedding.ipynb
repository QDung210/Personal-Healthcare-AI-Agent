{
 "cells": [
  {
   "cell_type": "code",
   "execution_count": 1,
   "id": "e63a1f37",
   "metadata": {},
   "outputs": [
    {
     "name": "stderr",
     "output_type": "stream",
     "text": [
      "/usr/local/lib/python3.10/dist-packages/tqdm/auto.py:21: TqdmWarning: IProgress not found. Please update jupyter and ipywidgets. See https://ipywidgets.readthedocs.io/en/stable/user_install.html\n",
      "  from .autonotebook import tqdm as notebook_tqdm\n"
     ]
    }
   ],
   "source": [
    "from datasets import load_dataset\n",
    "from sentence_transformers import (\n",
    "    SentenceTransformer,\n",
    "    SentenceTransformerTrainer,\n",
    "    SentenceTransformerTrainingArguments,\n",
    "    SentenceTransformerModelCardData,\n",
    ")\n",
    "from sentence_transformers.losses import MultipleNegativesRankingLoss\n",
    "from sentence_transformers.training_args import BatchSamplers\n",
    "from sentence_transformers.evaluation import TripletEvaluator\n",
    "from transformers import EarlyStoppingCallback"
   ]
  },
  {
   "cell_type": "code",
   "execution_count": 3,
   "id": "741b8f1a",
   "metadata": {},
   "outputs": [
    {
     "name": "stderr",
     "output_type": "stream",
     "text": [
      "Some weights of the model checkpoint at Alibaba-NLP/gte-multilingual-base were not used when initializing NewModel: ['classifier.bias', 'classifier.weight']\n",
      "- This IS expected if you are initializing NewModel from the checkpoint of a model trained on another task or with another architecture (e.g. initializing a BertForSequenceClassification model from a BertForPreTraining model).\n",
      "- This IS NOT expected if you are initializing NewModel from the checkpoint of a model that you expect to be exactly identical (initializing a BertForSequenceClassification model from a BertForSequenceClassification model).\n"
     ]
    }
   ],
   "source": [
    "# Load a model to finetune \n",
    "model = SentenceTransformer(\n",
    "    \"Alibaba-NLP/gte-multilingual-base\",\n",
    "    trust_remote_code=True,\n",
    ")"
   ]
  },
  {
   "cell_type": "code",
   "execution_count": 4,
   "id": "04601fc1",
   "metadata": {},
   "outputs": [],
   "source": [
    "dataset = load_dataset(\"Dqdung205/medical_vietnamese_datasets\", \"default\")\n",
    "train_dataset = dataset[\"train\"].select(range(200_000))\n",
    "\n",
    "train_test_split = train_dataset.train_test_split(test_size=0.2, seed=42)\n",
    "eval_test_split = train_test_split[\"test\"].train_test_split(test_size=0.5, seed=42)\n",
    "\n",
    "train_dataset = train_test_split[\"train\"]\n",
    "eval_dataset = eval_test_split[\"train\"]\n",
    "test_dataset = eval_test_split[\"test\"]"
   ]
  },
  {
   "cell_type": "code",
   "execution_count": 5,
   "id": "e5c79858",
   "metadata": {},
   "outputs": [],
   "source": [
    "loss = MultipleNegativesRankingLoss(model)"
   ]
  },
  {
   "cell_type": "code",
   "execution_count": null,
   "id": "121b35ae",
   "metadata": {},
   "outputs": [],
   "source": [
    "args = SentenceTransformerTrainingArguments(\n",
    "    output_dir=\"medical_vietnamese_embedding\",\n",
    "    num_train_epochs=3,\n",
    "    per_device_train_batch_size=32,\n",
    "    per_device_eval_batch_size=64,\n",
    "    warmup_ratio=0.05,\n",
    "    fp16=False,\n",
    "    bf16=True,\n",
    "    batch_sampler=BatchSamplers.NO_DUPLICATES,\n",
    "    eval_strategy=\"steps\",\n",
    "    eval_steps=500,\n",
    "    save_strategy=\"steps\",\n",
    "    save_steps=1000,\n",
    "    save_total_limit=3,\n",
    "    logging_steps=100,\n",
    "    learning_rate=2e-5,\n",
    "    run_name=\"vietnamese-medical_embedding\",\n",
    "    load_best_model_at_end=True,\n",
    "    metric_for_best_model=\"eval_loss\",\n",
    "    greater_is_better=False,\n",
    ")\n"
   ]
  },
  {
   "cell_type": "code",
   "execution_count": 7,
   "id": "9c35de4c",
   "metadata": {},
   "outputs": [
    {
     "name": "stderr",
     "output_type": "stream",
     "text": [
      "                                                                     \r"
     ]
    }
   ],
   "source": [
    "trainer = SentenceTransformerTrainer(\n",
    "    model=model,\n",
    "    args=args,\n",
    "    train_dataset=train_dataset,\n",
    "    eval_dataset=eval_dataset,\n",
    "    loss=loss,\n",
    "    callbacks=[EarlyStoppingCallback(early_stopping_patience=3)]  \n",
    ")"
   ]
  },
  {
   "cell_type": "code",
   "execution_count": 8,
   "id": "cb3c465b",
   "metadata": {},
   "outputs": [
    {
     "data": {
      "text/html": [
       "\n",
       "    <div>\n",
       "      \n",
       "      <progress value='210' max='2500' style='width:300px; height:20px; vertical-align: middle;'></progress>\n",
       "      [ 210/2500 09:29 < 1:44:25, 0.37 it/s, Epoch 0/1]\n",
       "    </div>\n",
       "    <table border=\"1\" class=\"dataframe\">\n",
       "  <thead>\n",
       " <tr style=\"text-align: left;\">\n",
       "      <th>Step</th>\n",
       "      <th>Training Loss</th>\n",
       "      <th>Validation Loss</th>\n",
       "    </tr>\n",
       "  </thead>\n",
       "  <tbody>\n",
       "    <tr>\n",
       "      <td>10</td>\n",
       "      <td>0.736800</td>\n",
       "      <td>0.747604</td>\n",
       "    </tr>\n",
       "    <tr>\n",
       "      <td>20</td>\n",
       "      <td>0.628700</td>\n",
       "      <td>0.589626</td>\n",
       "    </tr>\n",
       "    <tr>\n",
       "      <td>30</td>\n",
       "      <td>0.536000</td>\n",
       "      <td>0.437063</td>\n",
       "    </tr>\n",
       "    <tr>\n",
       "      <td>40</td>\n",
       "      <td>0.367200</td>\n",
       "      <td>0.365455</td>\n",
       "    </tr>\n",
       "    <tr>\n",
       "      <td>50</td>\n",
       "      <td>0.300800</td>\n",
       "      <td>0.330246</td>\n",
       "    </tr>\n",
       "    <tr>\n",
       "      <td>60</td>\n",
       "      <td>0.272200</td>\n",
       "      <td>0.317412</td>\n",
       "    </tr>\n",
       "    <tr>\n",
       "      <td>70</td>\n",
       "      <td>0.261900</td>\n",
       "      <td>0.314767</td>\n",
       "    </tr>\n",
       "    <tr>\n",
       "      <td>80</td>\n",
       "      <td>0.276600</td>\n",
       "      <td>0.312743</td>\n",
       "    </tr>\n",
       "    <tr>\n",
       "      <td>90</td>\n",
       "      <td>0.256800</td>\n",
       "      <td>0.301095</td>\n",
       "    </tr>\n",
       "    <tr>\n",
       "      <td>100</td>\n",
       "      <td>0.254600</td>\n",
       "      <td>0.307617</td>\n",
       "    </tr>\n",
       "    <tr>\n",
       "      <td>110</td>\n",
       "      <td>0.220600</td>\n",
       "      <td>0.298039</td>\n",
       "    </tr>\n",
       "    <tr>\n",
       "      <td>120</td>\n",
       "      <td>0.167000</td>\n",
       "      <td>0.288095</td>\n",
       "    </tr>\n",
       "    <tr>\n",
       "      <td>130</td>\n",
       "      <td>0.214700</td>\n",
       "      <td>0.284647</td>\n",
       "    </tr>\n",
       "    <tr>\n",
       "      <td>140</td>\n",
       "      <td>0.262700</td>\n",
       "      <td>0.288855</td>\n",
       "    </tr>\n",
       "    <tr>\n",
       "      <td>150</td>\n",
       "      <td>0.169900</td>\n",
       "      <td>0.274353</td>\n",
       "    </tr>\n",
       "    <tr>\n",
       "      <td>160</td>\n",
       "      <td>0.248500</td>\n",
       "      <td>0.276801</td>\n",
       "    </tr>\n",
       "    <tr>\n",
       "      <td>170</td>\n",
       "      <td>0.226600</td>\n",
       "      <td>0.277645</td>\n",
       "    </tr>\n",
       "    <tr>\n",
       "      <td>180</td>\n",
       "      <td>0.202200</td>\n",
       "      <td>0.268544</td>\n",
       "    </tr>\n",
       "    <tr>\n",
       "      <td>190</td>\n",
       "      <td>0.219000</td>\n",
       "      <td>0.270410</td>\n",
       "    </tr>\n",
       "    <tr>\n",
       "      <td>200</td>\n",
       "      <td>0.239200</td>\n",
       "      <td>0.269048</td>\n",
       "    </tr>\n",
       "    <tr>\n",
       "      <td>210</td>\n",
       "      <td>0.207500</td>\n",
       "      <td>0.269072</td>\n",
       "    </tr>\n",
       "  </tbody>\n",
       "</table><p>"
      ],
      "text/plain": [
       "<IPython.core.display.HTML object>"
      ]
     },
     "metadata": {},
     "output_type": "display_data"
    },
    {
     "data": {
      "text/plain": [
       "TrainOutput(global_step=210, training_loss=0.29854955843516756, metrics={'train_runtime': 569.6147, 'train_samples_per_second': 280.892, 'train_steps_per_second': 4.389, 'total_flos': 0.0, 'train_loss': 0.29854955843516756, 'epoch': 0.084})"
      ]
     },
     "execution_count": 8,
     "metadata": {},
     "output_type": "execute_result"
    }
   ],
   "source": [
    "trainer.train()"
   ]
  },
  {
   "cell_type": "code",
   "execution_count": 16,
   "id": "0131d336",
   "metadata": {},
   "outputs": [],
   "source": [
    "from sentence_transformers import SentenceTransformer\n",
    "\n",
    "best_model = SentenceTransformer(\n",
    "    \"medical_vietnamese_embedding/checkpoint-180\",\n",
    "    trust_remote_code=True\n",
    ")\n"
   ]
  },
  {
   "cell_type": "code",
   "execution_count": 17,
   "id": "57fc2279",
   "metadata": {},
   "outputs": [
    {
     "name": "stderr",
     "output_type": "stream",
     "text": [
      "huggingface/tokenizers: The current process just got forked, after parallelism has already been used. Disabling parallelism to avoid deadlocks...\n",
      "To disable this warning, you can either:\n",
      "\t- Avoid using `tokenizers` before the fork if possible\n",
      "\t- Explicitly set the environment variable TOKENIZERS_PARALLELISM=(true | false)\n"
     ]
    },
    {
     "name": "stdout",
     "output_type": "stream",
     "text": [
      "\u001b[33mWARNING: Running pip as the 'root' user can result in broken permissions and conflicting behaviour with the system package manager. It is recommended to use a virtual environment instead: https://pip.pypa.io/warnings/venv\u001b[0m\u001b[33m\n",
      "\u001b[0m"
     ]
    }
   ],
   "source": [
    "!pip install -U -q sentence-transformers git+https://github.com/huggingface/transformers@v4.56.0-Embedding-Gemma-preview"
   ]
  },
  {
   "cell_type": "code",
   "execution_count": 25,
   "id": "41d448bf",
   "metadata": {},
   "outputs": [],
   "source": [
    "model_ids = [\"medical_vietnamese_embedding/checkpoint-210\",\"google/embeddinggemma-300M\",\"dangvantuan/vietnamese-document-embedding\", \"AITeamVN/Vietnamese_Embedding\",\"keepitreal/vietnamese-sbert\",\"Alibaba-NLP/gte-multilingual-base\"]"
   ]
  },
  {
   "cell_type": "code",
   "execution_count": 27,
   "id": "bb632b5c",
   "metadata": {},
   "outputs": [
    {
     "name": "stdout",
     "output_type": "stream",
     "text": [
      "Load model medical_vietnamese_embedding/checkpoint-210....\n",
      "Load model google/embeddinggemma-300M....\n",
      "Load model dangvantuan/vietnamese-document-embedding....\n",
      "Load model AITeamVN/Vietnamese_Embedding....\n",
      "Load model keepitreal/vietnamese-sbert....\n",
      "Load model Alibaba-NLP/gte-multilingual-base....\n"
     ]
    },
    {
     "name": "stderr",
     "output_type": "stream",
     "text": [
      "Some weights of the model checkpoint at Alibaba-NLP/gte-multilingual-base were not used when initializing NewModel: ['classifier.bias', 'classifier.weight']\n",
      "- This IS expected if you are initializing NewModel from the checkpoint of a model trained on another task or with another architecture (e.g. initializing a BertForSequenceClassification model from a BertForPreTraining model).\n",
      "- This IS NOT expected if you are initializing NewModel from the checkpoint of a model that you expect to be exactly identical (initializing a BertForSequenceClassification model from a BertForSequenceClassification model).\n"
     ]
    }
   ],
   "source": [
    "models = []\n",
    "\n",
    "# Load từng model trong model_ids\n",
    "for i, model_id in enumerate(model_ids):\n",
    "    print(f\"Load model {model_id}....\")\n",
    "    model = SentenceTransformer(model_id, trust_remote_code=True).to(device=device)\n",
    "    models.append(model)"
   ]
  },
  {
   "cell_type": "code",
   "execution_count": 37,
   "id": "29c723ad",
   "metadata": {},
   "outputs": [
    {
     "name": "stdout",
     "output_type": "stream",
     "text": [
      "Load model medical_vietnamese_embedding/checkpoint-180....\n",
      "Load model google/embeddinggemma-300M....\n",
      "Load model dangvantuan/vietnamese-document-embedding....\n",
      "Load model AITeamVN/Vietnamese_Embedding....\n",
      "Load model keepitreal/vietnamese-sbert....\n",
      "Load model Alibaba-NLP/gte-multilingual-base....\n"
     ]
    },
    {
     "name": "stderr",
     "output_type": "stream",
     "text": [
      "Some weights of the model checkpoint at Alibaba-NLP/gte-multilingual-base were not used when initializing NewModel: ['classifier.bias', 'classifier.weight']\n",
      "- This IS expected if you are initializing NewModel from the checkpoint of a model trained on another task or with another architecture (e.g. initializing a BertForSequenceClassification model from a BertForPreTraining model).\n",
      "- This IS NOT expected if you are initializing NewModel from the checkpoint of a model that you expect to be exactly identical (initializing a BertForSequenceClassification model from a BertForSequenceClassification model).\n"
     ]
    }
   ],
   "source": [
    "from sentence_transformers import SentenceTransformer, util\n",
    "import torch\n",
    "\n",
    "device = \"cuda\" if torch.cuda.is_available() else \"cpu\"\n",
    "\n",
    "# Các model cần so sánh\n",
    "model_ids = [\n",
    "    \"medical_vietnamese_embedding/checkpoint-180\",\n",
    "    \"google/embeddinggemma-300M\",\n",
    "    \"dangvantuan/vietnamese-document-embedding\",\n",
    "    \"AITeamVN/Vietnamese_Embedding\",\n",
    "    \"keepitreal/vietnamese-sbert\",\n",
    "    \"Alibaba-NLP/gte-multilingual-base\"\n",
    "]\n",
    "\n",
    "# Load model\n",
    "models = []\n",
    "for i, model_id in enumerate(model_ids):\n",
    "    print(f\"Load model {model_id}....\")\n",
    "    model = SentenceTransformer(model_id, trust_remote_code=True).to(device)\n",
    "    models.append(model)"
   ]
  },
  {
   "cell_type": "code",
   "execution_count": 41,
   "id": "3495dcd1",
   "metadata": {},
   "outputs": [
    {
     "name": "stdout",
     "output_type": "stream",
     "text": [
      "📊 Model: medical_vietnamese_embedding/checkpoint-180\n",
      "   - MRR@3  = 70.15%\n",
      "   - MRR@5  = 71.27%\n",
      "   - MRR@10 = 71.91%\n",
      "📊 Model: google/embeddinggemma-300M\n",
      "   - MRR@3  = 65.62%\n",
      "   - MRR@5  = 66.78%\n",
      "   - MRR@10 = 67.60%\n",
      "📊 Model: dangvantuan/vietnamese-document-embedding\n",
      "   - MRR@3  = 66.57%\n",
      "   - MRR@5  = 67.67%\n",
      "   - MRR@10 = 68.36%\n",
      "📊 Model: AITeamVN/Vietnamese_Embedding\n",
      "   - MRR@3  = 65.28%\n",
      "   - MRR@5  = 66.39%\n",
      "   - MRR@10 = 67.04%\n",
      "📊 Model: keepitreal/vietnamese-sbert\n",
      "   - MRR@3  = 40.42%\n",
      "   - MRR@5  = 41.88%\n",
      "   - MRR@10 = 43.07%\n",
      "📊 Model: Alibaba-NLP/gte-multilingual-base\n",
      "   - MRR@3  = 67.35%\n",
      "   - MRR@5  = 68.43%\n",
      "   - MRR@10 = 69.14%\n"
     ]
    }
   ],
   "source": [
    "# Bộ dữ liệu mini (query, correct_answer)\n",
    "dataset = load_dataset(\"tarudesu/ViHealthQA\", split=\"test[:1000]\")\n",
    "\n",
    "# Tạo query và corpus\n",
    "queries = [item[\"question\"] for item in dataset]\n",
    "answers = [item[\"answer\"] for item in dataset]\n",
    "corpus = answers  # corpus = tất cả các câu trả lời\n",
    "\n",
    "def compute_mrr_at_k(model, queries, answers, corpus, k):\n",
    "    query_emb = model.encode(queries, convert_to_tensor=True, device=device)\n",
    "    corpus_emb = model.encode(corpus, convert_to_tensor=True, device=device)\n",
    "\n",
    "    reciprocal_ranks = []\n",
    "    for i, q_emb in enumerate(query_emb):\n",
    "        # Tính similarity query với toàn bộ corpus\n",
    "        scores = util.cos_sim(q_emb, corpus_emb)[0]\n",
    "        # Sắp xếp theo score giảm dần\n",
    "        rankings = torch.argsort(scores, descending=True)\n",
    "        # Lấy vị trí của câu trả lời đúng\n",
    "        rank = (rankings == i).nonzero(as_tuple=True)[0].item() + 1  # index -> rank (1-based)\n",
    "\n",
    "        if rank <= k:\n",
    "            reciprocal_ranks.append(1.0 / rank)\n",
    "        else:\n",
    "            reciprocal_ranks.append(0.0)\n",
    "\n",
    "    return sum(reciprocal_ranks) / len(reciprocal_ranks)\n",
    "\n",
    "# So sánh các model\n",
    "for i, model in enumerate(models):\n",
    "    mrr3 = compute_mrr_at_k(model, queries, answers, corpus, k=3)\n",
    "    mrr5 = compute_mrr_at_k(model, queries, answers, corpus, k=5)\n",
    "    mrr10 = compute_mrr_at_k(model, queries, answers, corpus, k=10)\n",
    "    print(f\"📊 Model: {model_ids[i]}\")\n",
    "    print(f\"   - MRR@3  = {mrr3*100:.2f}%\")\n",
    "    print(f\"   - MRR@5  = {mrr5*100:.2f}%\")\n",
    "    print(f\"   - MRR@10 = {mrr10*100:.2f}%\")\n"
   ]
  }
 ],
 "metadata": {
  "kernelspec": {
   "display_name": "Python 3",
   "language": "python",
   "name": "python3"
  },
  "language_info": {
   "codemirror_mode": {
    "name": "ipython",
    "version": 3
   },
   "file_extension": ".py",
   "mimetype": "text/x-python",
   "name": "python",
   "nbconvert_exporter": "python",
   "pygments_lexer": "ipython3",
   "version": "3.10.12"
  }
 },
 "nbformat": 4,
 "nbformat_minor": 5
}
